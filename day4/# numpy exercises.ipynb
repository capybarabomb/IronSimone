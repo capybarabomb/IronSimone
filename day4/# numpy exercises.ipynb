{
 "cells": [
  {
   "cell_type": "markdown",
   "id": "30729d76",
   "metadata": {},
   "source": [
    "# numpy exercises\n",
    "\n",
    "This is a collection of exercises that have been collected in the numpy mailing list, on stack overflow\n",
    "and in the numpy documentation. The goal of this collection is to offer a quick reference for both old\n",
    "and new users but also to provide a set of exercises for those who teach.\n",
    "\n",
    "\n",
    "If you find an error or think you've a better way to solve some of them, feel\n",
    "free to open an issue at <https://github.com/rougier/numpy-100>.\n",
    "File automatically generated. See the documentation to update questions/answers/hints programmatically.\n",
    "\n",
    "#### 1. Import the numpy package under the name `np` (★☆☆)\n",
    "`hint: import … as`\n",
    "   \n",
    "#### 2. Create a null vector of size 10 (★☆☆)\n",
    "`hint: np.zeros`\n",
    "\n",
    "#### 3. Create a null vector of size 10 but the fifth value which is 1 (★☆☆)\n",
    "`hint: array[4]`\n",
    "\n",
    "#### 4. Create a vector with values ranging from 10 to 49 (★☆☆)\n",
    "`hint: arange`\n",
    "\n",
    "#### 5. Create a 3x3 matrix with values ranging from 0 to 8 (★☆☆)\n",
    "`hint: reshape`\n",
    "\n",
    "#### 6. Find indices of non-zero elements from [1,2,0,0,4,0] (★☆☆)\n",
    "`hint: np.nonzero`\n",
    "\n",
    "#### 7. Create a 3x3 identity matrix (★☆☆)\n",
    "`hint: np.eye`\n",
    "\n",
    "#### 8. Create a 3x3x3 array with random values (★☆☆)\n",
    "`hint: np.random.random`\n",
    "\n",
    "#### 9. Create a 10x10 array with random values and find the minimum and maximum values (★☆☆)\n",
    "`hint: min, max`\n",
    "\n",
    "#### 10. Create a random vector of size 30 and find the mean value (★☆☆)\n",
    "`hint: mean`\n",
    "\n",
    "#### 11. Create a 5x5 matrix with values 1,2,3,4 just below the diagonal (★☆☆)\n",
    "`hint: np.diag`\n",
    "\n",
    "#### 12. Normalize a 5x5 random matrix (★☆☆)\n",
    "`hint: (x -mean)/std`\n",
    "\n",
    "#### 13. How to find common values between two arrays? (★☆☆)\n",
    "`hint: np.intersect1d`\n",
    "\n",
    "#### 14. Create a random vector of size 10 and sort it (★★☆)\n",
    "`hint: sort`\n",
    "\n",
    "#### 15. Create random vector of size 10 and replace the maximum value by 0 (★★☆)\n",
    "`hint: argmax`\n",
    "\n",
    "#### 16. Subtract the mean of each row of a matrix (★★☆)\n",
    "`hint: mean(axis=,keepdims=)`\n",
    "\n",
    "#### 17. How to get the n largest values of an array (★★★)\n",
    "`Z = np.arange(10000)\n",
    "np.random.shuffle(Z)\n",
    "n = 5\n",
    "hint: np.argsort | np.argpartition`\n",
    "\n",
    "#### 18. Create a random 5*3 matrix and replace items that are larger than 4 by their squares ( Example:  6 --> 36) \n",
    "`hint: np.where`\n"
   ]
  },
  {
   "cell_type": "markdown",
   "id": "8b66d1f5",
   "metadata": {},
   "source": [
    "#### 1. Import the numpy package under the name `np` (★☆☆)\n",
    "`hint: import … as`"
   ]
  },
  {
   "cell_type": "code",
   "execution_count": 2,
   "id": "a523f3d3",
   "metadata": {},
   "outputs": [],
   "source": [
    "import numpy as np"
   ]
  },
  {
   "cell_type": "markdown",
   "id": "b5233c9d",
   "metadata": {},
   "source": [
    "#### 2. Create a null vector of size 10 (★☆☆)\n",
    "`hint: np.zeros`"
   ]
  },
  {
   "cell_type": "code",
   "execution_count": 7,
   "id": "d40756fb",
   "metadata": {},
   "outputs": [
    {
     "data": {
      "text/plain": [
       "array([0., 0., 0., 0., 0., 0., 0., 0., 0., 0.])"
      ]
     },
     "execution_count": 7,
     "metadata": {},
     "output_type": "execute_result"
    }
   ],
   "source": [
    "a=np.zeros((10))\n",
    "a"
   ]
  },
  {
   "cell_type": "markdown",
   "id": "53f7bc76",
   "metadata": {},
   "source": [
    "#### 3. Create a null vector of size 10 but the fifth value which is 1 (★☆☆)\n",
    "`hint: array[4]`"
   ]
  },
  {
   "cell_type": "code",
   "execution_count": 11,
   "id": "29277dec",
   "metadata": {},
   "outputs": [
    {
     "data": {
      "text/plain": [
       "array([0., 0., 0., 0., 1., 0., 0., 0., 0., 0.])"
      ]
     },
     "execution_count": 11,
     "metadata": {},
     "output_type": "execute_result"
    }
   ],
   "source": [
    "a[4]=1\n",
    "a"
   ]
  },
  {
   "cell_type": "markdown",
   "id": "4bcc8f63",
   "metadata": {},
   "source": [
    "#### 4. Create a vector with values ranging from 10 to 49 (★☆☆)\n",
    "`hint: arange`"
   ]
  },
  {
   "cell_type": "code",
   "execution_count": 5,
   "id": "1bf161e1",
   "metadata": {},
   "outputs": [
    {
     "data": {
      "text/plain": [
       "array([10, 11, 12, 13, 14, 15, 16, 17, 18, 19, 20, 21, 22, 23, 24, 25, 26,\n",
       "       27, 28, 29, 30, 31, 32, 33, 34, 35, 36, 37, 38, 39, 40, 41, 42, 43,\n",
       "       44, 45, 46, 47, 48, 49])"
      ]
     },
     "execution_count": 5,
     "metadata": {},
     "output_type": "execute_result"
    }
   ],
   "source": [
    "np.arange(10,50)"
   ]
  },
  {
   "cell_type": "markdown",
   "id": "2cd93271",
   "metadata": {},
   "source": [
    "#### 5. Create a 3x3 matrix with values ranging from 0 to 8 (★☆☆)\n",
    "`hint: reshape`"
   ]
  },
  {
   "cell_type": "code",
   "execution_count": 4,
   "id": "f954245a",
   "metadata": {},
   "outputs": [
    {
     "data": {
      "text/plain": [
       "array([[0, 1, 2],\n",
       "       [3, 4, 5],\n",
       "       [6, 7, 8]])"
      ]
     },
     "execution_count": 4,
     "metadata": {},
     "output_type": "execute_result"
    }
   ],
   "source": [
    "np.arange(9).reshape((3,3))"
   ]
  },
  {
   "cell_type": "markdown",
   "id": "eade2644",
   "metadata": {},
   "source": [
    "#### 6. Find indices of non-zero elements from [1,2,0,0,4,0] (★☆☆)\n",
    "`hint: np.nonzero`"
   ]
  },
  {
   "cell_type": "code",
   "execution_count": 27,
   "id": "e36aaed9",
   "metadata": {},
   "outputs": [
    {
     "data": {
      "text/plain": [
       "(array([0, 1, 4]),)"
      ]
     },
     "execution_count": 27,
     "metadata": {},
     "output_type": "execute_result"
    }
   ],
   "source": [
    "d = np.array([1,2,0,0,4,0])\n",
    "np.nonzero(d)"
   ]
  },
  {
   "cell_type": "markdown",
   "id": "97cbe105",
   "metadata": {},
   "source": [
    "#### 7. Create a 3x3 identity matrix (★☆☆)\n",
    "`hint: np.eye`"
   ]
  },
  {
   "cell_type": "code",
   "execution_count": 3,
   "id": "d074464b",
   "metadata": {},
   "outputs": [
    {
     "data": {
      "text/plain": [
       "array([[1., 0., 0.],\n",
       "       [0., 1., 0.],\n",
       "       [0., 0., 1.]])"
      ]
     },
     "execution_count": 3,
     "metadata": {},
     "output_type": "execute_result"
    }
   ],
   "source": [
    "np.eye(3)"
   ]
  },
  {
   "cell_type": "markdown",
   "id": "cc178c0a",
   "metadata": {},
   "source": [
    "#### 8. Create a 3x3x3 array with random values (★☆☆)\n",
    "`hint: np.random.random`"
   ]
  },
  {
   "cell_type": "code",
   "execution_count": 34,
   "id": "0a7f582f",
   "metadata": {},
   "outputs": [
    {
     "data": {
      "text/plain": [
       "array([[[0.78892674, 0.42651118, 0.95992139],\n",
       "        [0.61688619, 0.53293455, 0.45837708],\n",
       "        [0.05496544, 0.07521363, 0.60405422]],\n",
       "\n",
       "       [[0.4749108 , 0.44123018, 0.07754322],\n",
       "        [0.63915377, 0.458136  , 0.47849947],\n",
       "        [0.65205263, 0.87614367, 0.72307104]],\n",
       "\n",
       "       [[0.28365356, 0.39776758, 0.12030565],\n",
       "        [0.46503554, 0.32180738, 0.30812386],\n",
       "        [0.86840195, 0.27425713, 0.23054661]]])"
      ]
     },
     "execution_count": 34,
     "metadata": {},
     "output_type": "execute_result"
    }
   ],
   "source": [
    "np.random.random((3,3,3))"
   ]
  },
  {
   "cell_type": "markdown",
   "id": "e17ba3d4",
   "metadata": {},
   "source": [
    "#### 9. Create a 10x10 array with random values and find the minimum and maximum values (★☆☆)\n",
    "`hint: min, max`"
   ]
  },
  {
   "cell_type": "code",
   "execution_count": 60,
   "id": "48c08ae7",
   "metadata": {},
   "outputs": [
    {
     "name": "stdout",
     "output_type": "stream",
     "text": [
      "minimum is:  0.002071334623689136\n",
      "maximum is:  0.9860679877563902\n"
     ]
    }
   ],
   "source": [
    "a=np.random.random((10,10))\n",
    "print('minimum is: ', np.amin(a))\n",
    "print('maximum is: ', np.amax(a))"
   ]
  },
  {
   "cell_type": "markdown",
   "id": "4cf3cc43",
   "metadata": {},
   "source": [
    "#### 10. Create a random vector of size 30 and find the mean value (★☆☆)\n",
    "`hint: mean`"
   ]
  },
  {
   "cell_type": "code",
   "execution_count": 61,
   "id": "d5c5ede8",
   "metadata": {},
   "outputs": [
    {
     "data": {
      "text/plain": [
       "43.233333333333334"
      ]
     },
     "execution_count": 61,
     "metadata": {},
     "output_type": "execute_result"
    }
   ],
   "source": [
    "a = np.random.randint(100, size=30)\n",
    "np.mean(a)"
   ]
  },
  {
   "cell_type": "markdown",
   "id": "15d36c7c",
   "metadata": {},
   "source": [
    "#### 11. Create a 5x5 matrix with values 1,2,3,4 just below the diagonal (★☆☆)\n",
    "`hint: np.diag`"
   ]
  },
  {
   "cell_type": "code",
   "execution_count": 14,
   "id": "8edd3e5b",
   "metadata": {},
   "outputs": [
    {
     "data": {
      "text/plain": [
       "array([[0, 0, 0, 0, 0],\n",
       "       [1, 0, 0, 0, 0],\n",
       "       [0, 2, 0, 0, 0],\n",
       "       [0, 0, 3, 0, 0],\n",
       "       [0, 0, 0, 4, 0]])"
      ]
     },
     "execution_count": 14,
     "metadata": {},
     "output_type": "execute_result"
    }
   ],
   "source": [
    "np.diag([1,2,3,4],-1)"
   ]
  },
  {
   "cell_type": "markdown",
   "id": "693879bc",
   "metadata": {},
   "source": [
    "#### 12. Normalize a 5x5 random matrix (★☆☆)\n",
    "`hint: (x -mean)/std`"
   ]
  },
  {
   "cell_type": "code",
   "execution_count": 15,
   "id": "2d217b6c",
   "metadata": {},
   "outputs": [
    {
     "data": {
      "text/plain": [
       "array([[-1.28654438, -0.69638641,  1.2806428 , -0.04721264,  0.86753222],\n",
       "       [-1.43408387, -0.25376793,  1.1626112 , -0.31278372, -1.34556017],\n",
       "       [ 0.45442164, -0.43081532, -0.57835481, -1.19802068,  1.1921191 ],\n",
       "       [-0.54884691,  0.83802432,  0.24786635,  1.2511349 ,  1.2806428 ],\n",
       "       [ 1.1331033 ,  0.54294533, -1.46359177, -1.61113126,  0.95605591]])"
      ]
     },
     "execution_count": 15,
     "metadata": {},
     "output_type": "execute_result"
    }
   ],
   "source": [
    "a=np.random.randint(100, size=25).reshape((5,5))\n",
    "\n",
    "a_m=np.mean(a)\n",
    "a_s=np.std(a)\n",
    "\n",
    "b= (a-a_m)/a_s\n",
    "\n",
    "b"
   ]
  },
  {
   "cell_type": "markdown",
   "id": "a2c1000b",
   "metadata": {},
   "source": [
    "#### 13. How to find common values between two arrays? (★☆☆)\n",
    "`hint: np.intersect1d`"
   ]
  },
  {
   "cell_type": "code",
   "execution_count": 23,
   "id": "a5bbde42",
   "metadata": {},
   "outputs": [
    {
     "data": {
      "text/plain": [
       "array([10, 11, 14, 68, 95])"
      ]
     },
     "execution_count": 23,
     "metadata": {},
     "output_type": "execute_result"
    }
   ],
   "source": [
    "a=np.random.randint(100, size=25).reshape((5,5))\n",
    "b=np.random.randint(100, size=25).reshape((5,5))\n",
    "\n",
    "\n",
    "np.intersect1d(a,b)"
   ]
  },
  {
   "cell_type": "markdown",
   "id": "21316c14",
   "metadata": {},
   "source": [
    "#### 14. Create a random vector of size 10 and sort it (★★☆)\n",
    "`hint: sort`"
   ]
  },
  {
   "cell_type": "code",
   "execution_count": 28,
   "id": "643ba095",
   "metadata": {},
   "outputs": [
    {
     "data": {
      "text/plain": [
       "array([ 2, 18, 24, 43, 44, 62, 66, 70, 73, 97])"
      ]
     },
     "execution_count": 28,
     "metadata": {},
     "output_type": "execute_result"
    }
   ],
   "source": [
    "a=np.random.randint(100, size=10)\n",
    "np.sort(a)                "
   ]
  },
  {
   "cell_type": "markdown",
   "id": "65d5b65c",
   "metadata": {},
   "source": [
    "#### 15. Create random vector of size 10 and replace the maximum value by 0 (★★☆)\n",
    "`hint: argmax`"
   ]
  },
  {
   "cell_type": "code",
   "execution_count": 31,
   "id": "45b2ee18",
   "metadata": {},
   "outputs": [
    {
     "name": "stdout",
     "output_type": "stream",
     "text": [
      "[45 61  6 54 64 56 44 11  1 36]\n",
      "[45 61  6 54  0 56 44 11  1 36]\n"
     ]
    }
   ],
   "source": [
    "a=np.random.randint(100, size=10)\n",
    "print(a)\n",
    "a[np.argmax(a)]=0\n",
    "print(a)"
   ]
  },
  {
   "cell_type": "markdown",
   "id": "1ea78cf7",
   "metadata": {},
   "source": [
    "#### 16. Subtract the mean of each row of a matrix (★★☆)\n",
    "`hint: mean(axis=,keepdims=)`"
   ]
  },
  {
   "cell_type": "code",
   "execution_count": 33,
   "id": "621ae96f",
   "metadata": {},
   "outputs": [
    {
     "name": "stdout",
     "output_type": "stream",
     "text": [
      "[[54 47 42]\n",
      " [80 65 90]\n",
      " [31 85  0]]\n",
      "[[47.66666667]\n",
      " [78.33333333]\n",
      " [38.66666667]]\n"
     ]
    },
    {
     "data": {
      "text/plain": [
       "array([[  6.33333333,  -0.66666667,  -5.66666667],\n",
       "       [  1.66666667, -13.33333333,  11.66666667],\n",
       "       [ -7.66666667,  46.33333333, -38.66666667]])"
      ]
     },
     "execution_count": 33,
     "metadata": {},
     "output_type": "execute_result"
    }
   ],
   "source": [
    "import numpy as np\n",
    "\n",
    "a=np.random.randint(100, size=9).reshape((3,3))\n",
    "print(a)\n",
    "b=np.mean(a,axis=1,keepdims=True)\n",
    "print(b)\n",
    "\n",
    "c=a-b\n",
    "c\n"
   ]
  },
  {
   "cell_type": "markdown",
   "id": "e31e9b83",
   "metadata": {},
   "source": [
    "#### 17. How to get the n largest values of an array (★★★)\n",
    "`Z = np.arange(10000)\n",
    "np.random.shuffle(Z)\n",
    "n = 5\n",
    "hint: np.argsort | np.argpartition`"
   ]
  },
  {
   "cell_type": "code",
   "execution_count": 36,
   "id": "bff218ff",
   "metadata": {},
   "outputs": [
    {
     "name": "stdout",
     "output_type": "stream",
     "text": [
      "[9995 9997 9999 9998 9996]\n"
     ]
    }
   ],
   "source": [
    "Z = np.arange(10000)\n",
    "np.random.shuffle(Z)\n",
    "n = 5\n",
    "\n",
    "print(Z[np.argpartition(-Z,n)[:n]])\n"
   ]
  },
  {
   "cell_type": "markdown",
   "id": "8062e8d9",
   "metadata": {},
   "source": [
    "18. Create a random 5*3 matrix and replace items that are larger than 4 by their squares ( Example: 6 --> 36)\n",
    "hint: np.where"
   ]
  },
  {
   "cell_type": "code",
   "execution_count": 39,
   "id": "55c306f5",
   "metadata": {},
   "outputs": [
    {
     "data": {
      "text/plain": [
       "array([[0, 9, 7],\n",
       "       [0, 5, 9],\n",
       "       [9, 6, 8],\n",
       "       [1, 9, 4],\n",
       "       [8, 6, 7]])"
      ]
     },
     "execution_count": 39,
     "metadata": {},
     "output_type": "execute_result"
    }
   ],
   "source": [
    "a=np.random.randint(0,10,size=(5,3))\n",
    "a\n"
   ]
  },
  {
   "cell_type": "code",
   "execution_count": null,
   "id": "060a825c",
   "metadata": {},
   "outputs": [],
   "source": []
  }
 ],
 "metadata": {
  "kernelspec": {
   "display_name": "Python 3 (ipykernel)",
   "language": "python",
   "name": "python3"
  },
  "language_info": {
   "codemirror_mode": {
    "name": "ipython",
    "version": 3
   },
   "file_extension": ".py",
   "mimetype": "text/x-python",
   "name": "python",
   "nbconvert_exporter": "python",
   "pygments_lexer": "ipython3",
   "version": "3.9.13"
  }
 },
 "nbformat": 4,
 "nbformat_minor": 5
}
