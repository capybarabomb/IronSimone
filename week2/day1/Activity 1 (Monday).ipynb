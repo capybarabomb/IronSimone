{
 "cells": [
  {
   "cell_type": "markdown",
   "id": "e3ff9f3b",
   "metadata": {},
   "source": [
    "Aggregate the data into one Data Frame using Pandas. Pay attention that files may have different names for the same column. therefore, make sure that you unify the columns names before concating them.\n",
    "\n",
    "Standardizing header names\n",
    "\n",
    "Removing duplicates\n",
    "\n",
    "Deleting and rearranging columns – delete the column customer as it is only a unique identifier for each row of data\n",
    "\n",
    "Working with data types – Check the data types of all the columns and fix the incorrect ones (for ex. customer lifetime value and number of open complaints ). Hint: remove the percentage from the customer lifetime value and truncate it to an integer value.\n",
    "\n",
    "clean the number of open complaints and extract the middle number which is changing between records.\n",
    "\n",
    "Filtering data and Correcting typos – Filter the data in state and gender column to standardize the texts in those columns\n",
    "\n",
    "## Important: for Activity 1, Activity 2 and Activity 3 , please use the files file1.csv, file2.csv and file3.csv from the Data folder.\n"
   ]
  },
  {
   "cell_type": "code",
   "execution_count": null,
   "id": "c71dae5e",
   "metadata": {},
   "outputs": [],
   "source": [
    "import numpy as np\n",
    "import pandas as pd\n",
    "import matplotlib.pyplot as plt\n",
    "%matplotlib inline\n",
    "import seaborn as sns\n",
    "import statsmodels.api as sm\n",
    "from scipy.stats import boxcox\n",
    "pd.options.display.max_rows = 100\n",
    "## Install xlrd package to load Excel files\n",
    "#!conda install openpyxl\n",
    "#!conda install xlrd"
   ]
  },
  {
   "cell_type": "code",
   "execution_count": null,
   "id": "0fc08e88",
   "metadata": {},
   "outputs": [],
   "source": [
    "file1 = pd.read_csv('Data/file1.csv')\n",
    "file2 = pd.read_csv('Data/file2.csv')\n",
    "file3 = pd.read_csv('Data/file3.csv')"
   ]
  },
  {
   "cell_type": "code",
   "execution_count": null,
   "id": "20090d73",
   "metadata": {},
   "outputs": [],
   "source": [
    "file1.columns"
   ]
  },
  {
   "cell_type": "code",
   "execution_count": null,
   "id": "c2ff76b7",
   "metadata": {},
   "outputs": [],
   "source": [
    "file2=file2[['Customer', 'ST', 'GENDER', 'Education', 'Customer Lifetime Value',\n",
    "       'Income', 'Monthly Premium Auto', 'Number of Open Complaints',\n",
    "       'Policy Type', 'Vehicle Class', 'Total Claim Amount']]\n",
    "file2.columns\n"
   ]
  },
  {
   "cell_type": "code",
   "execution_count": null,
   "id": "30fdc9ca",
   "metadata": {},
   "outputs": [],
   "source": [
    "file3.columns"
   ]
  },
  {
   "cell_type": "code",
   "execution_count": null,
   "id": "b82b88cd",
   "metadata": {},
   "outputs": [],
   "source": [
    "file3.rename(columns={'State':'ST','Gender':'GENDER'}, inplace=True )\n",
    "file3.columns"
   ]
  },
  {
   "cell_type": "code",
   "execution_count": null,
   "id": "d2c77f9d",
   "metadata": {},
   "outputs": [],
   "source": [
    "file3=file3[['Customer', 'ST', 'GENDER', 'Education', 'Customer Lifetime Value',\n",
    "       'Income', 'Monthly Premium Auto', 'Number of Open Complaints',\n",
    "       'Policy Type', 'Vehicle Class', 'Total Claim Amount']]\n",
    "file3.columns"
   ]
  },
  {
   "cell_type": "code",
   "execution_count": null,
   "id": "c0c497f3",
   "metadata": {},
   "outputs": [],
   "source": [
    "ca_df = pd.concat([file1,file2,file3], axis=0)\n",
    "ca_df"
   ]
  },
  {
   "cell_type": "code",
   "execution_count": null,
   "id": "1929d251",
   "metadata": {},
   "outputs": [],
   "source": [
    "#Standardizing header names\n",
    "\n",
    "ca_df.rename(columns={'ST':'State','GENDER':'Gender'}, inplace=True )\n",
    "ca_df.reset_index()"
   ]
  },
  {
   "cell_type": "code",
   "execution_count": null,
   "id": "b5bb134a",
   "metadata": {},
   "outputs": [],
   "source": [
    "#Removing duplicates\n",
    "\n",
    "ca_df = ca_df.drop_duplicates()\n",
    "ca_df = ca_df.reset_index()"
   ]
  },
  {
   "cell_type": "code",
   "execution_count": null,
   "id": "79f285d0",
   "metadata": {},
   "outputs": [],
   "source": [
    "#Deleting and rearranging columns – delete the column customer as it is only a unique identifier for each row of data\n",
    "\n",
    "ca_df.drop(columns=['Customer'], inplace=True)\n",
    "ca_df"
   ]
  },
  {
   "cell_type": "code",
   "execution_count": null,
   "id": "56ee8141",
   "metadata": {},
   "outputs": [],
   "source": [
    "#Working with data types – Check the data types of all the columns and fix the incorrect ones (for ex. customer lifetime value and number of open complaints ). Hint: remove the percentage from the customer lifetime value and truncate it to an integer value.\n",
    "\n",
    "ca_df.info()"
   ]
  },
  {
   "cell_type": "code",
   "execution_count": null,
   "id": "040cfacb",
   "metadata": {},
   "outputs": [],
   "source": [
    "ca_df['Customer Lifetime Value'] = ca_df['Customer Lifetime Value'].astype('string')\n",
    "ca_df['Customer Lifetime Value'] = ca_df['Customer Lifetime Value'].str.replace('%','')\n",
    "ca_df['Customer Lifetime Value'] = ca_df['Customer Lifetime Value'].astype('float')\n",
    "ca_df['Customer Lifetime Value'] = ca_df['Customer Lifetime Value'].round()\n",
    "ca_df"
   ]
  },
  {
   "cell_type": "code",
   "execution_count": null,
   "id": "92d2493d",
   "metadata": {
    "scrolled": true
   },
   "outputs": [],
   "source": [
    "#Clean the number of open complaints and extract the middle number which is changing between records.\n",
    "\n",
    "\n",
    "ca_df['Number of Open Complaints'][0]\n",
    "\n"
   ]
  },
  {
   "cell_type": "code",
   "execution_count": null,
   "id": "c59ffa35",
   "metadata": {},
   "outputs": [],
   "source": [
    "for i in ca_df['Number of Open Complaints']:\n",
    "    print(i)"
   ]
  },
  {
   "cell_type": "code",
   "execution_count": null,
   "id": "32cd830e",
   "metadata": {},
   "outputs": [],
   "source": [
    "import re\n",
    "\n",
    "for i in ca_df['Number of Open Complaints']:\n",
    "        x = re.search(r'/(\\d+)/', i)\n",
    "        if x:\n",
    "            ca_df['Number of Open Complaints'] = str(x.group(1))\n",
    "\n",
    "ca_df"
   ]
  },
  {
   "cell_type": "code",
   "execution_count": null,
   "id": "8afe1029",
   "metadata": {},
   "outputs": [],
   "source": [
    "#Filtering data and Correcting typos – Filter the data in state and gender column to standardize the texts in those columns\n"
   ]
  },
  {
   "cell_type": "code",
   "execution_count": null,
   "id": "83af9bdb",
   "metadata": {},
   "outputs": [],
   "source": []
  },
  {
   "cell_type": "code",
   "execution_count": null,
   "id": "69382b3c",
   "metadata": {},
   "outputs": [],
   "source": []
  }
 ],
 "metadata": {
  "kernelspec": {
   "display_name": "Python 3 (ipykernel)",
   "language": "python",
   "name": "python3"
  },
  "language_info": {
   "codemirror_mode": {
    "name": "ipython",
    "version": 3
   },
   "file_extension": ".py",
   "mimetype": "text/x-python",
   "name": "python",
   "nbconvert_exporter": "python",
   "pygments_lexer": "ipython3",
   "version": "3.9.13"
  }
 },
 "nbformat": 4,
 "nbformat_minor": 5
}
