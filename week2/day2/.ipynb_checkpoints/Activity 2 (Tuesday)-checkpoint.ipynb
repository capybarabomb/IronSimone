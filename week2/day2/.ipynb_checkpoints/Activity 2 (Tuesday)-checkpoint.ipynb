{
 "cells": [
  {
   "cell_type": "code",
   "execution_count": 3,
   "id": "4cb18001",
   "metadata": {},
   "outputs": [],
   "source": [
    "import numpy as np\n",
    "import pandas as pd\n",
    "import matplotlib.pyplot as plt\n",
    "%matplotlib inline\n",
    "import seaborn as sns\n",
    "import statsmodels.api as sm\n",
    "from scipy.stats import boxcox\n",
    "pd.options.display.max_rows = 100\n",
    "## Install xlrd package to load Excel files\n",
    "#!conda install openpyxl\n",
    "#!conda install xlrd"
   ]
  },
  {
   "cell_type": "code",
   "execution_count": 4,
   "id": "5b4ccc0e",
   "metadata": {},
   "outputs": [
    {
     "name": "stdout",
     "output_type": "stream",
     "text": [
      "<class 'pandas.core.frame.DataFrame'>\n",
      "RangeIndex: 9135 entries, 0 to 9134\n",
      "Data columns (total 10 columns):\n",
      " #   Column                     Non-Null Count  Dtype  \n",
      "---  ------                     --------------  -----  \n",
      " 0   State                      9134 non-null   object \n",
      " 1   Gender                     9012 non-null   object \n",
      " 2   Education                  9134 non-null   object \n",
      " 3   Customer Lifetime Value    9127 non-null   float64\n",
      " 4   Income                     9134 non-null   float64\n",
      " 5   Monthly Premium Auto       9134 non-null   float64\n",
      " 6   Number of Open Complaints  9134 non-null   float64\n",
      " 7   Policy Type                9134 non-null   object \n",
      " 8   Vehicle Class              9134 non-null   object \n",
      " 9   Total Claim Amount         9134 non-null   float64\n",
      "dtypes: float64(5), object(5)\n",
      "memory usage: 713.8+ KB\n"
     ]
    }
   ],
   "source": [
    "#let's import the file created during activity 1 and run the info function\n",
    "\n",
    "df = pd.read_csv('ca_df.csv')\n",
    "df.info()"
   ]
  },
  {
   "cell_type": "markdown",
   "id": "876aa6ee",
   "metadata": {},
   "source": [
    "#### Replacing null values – Replace missing values with means of the column (for numerical columns). Pay attention that the Income feature for instance has 0s which is equivalent to null values. (We assume here that there is no such income with 0 as it refers to missing values) Hint: numpy.nan is considered of float64 data type."
   ]
  },
  {
   "cell_type": "code",
   "execution_count": 5,
   "id": "83f6c918",
   "metadata": {},
   "outputs": [
    {
     "data": {
      "text/html": [
       "<div>\n",
       "<style scoped>\n",
       "    .dataframe tbody tr th:only-of-type {\n",
       "        vertical-align: middle;\n",
       "    }\n",
       "\n",
       "    .dataframe tbody tr th {\n",
       "        vertical-align: top;\n",
       "    }\n",
       "\n",
       "    .dataframe thead th {\n",
       "        text-align: right;\n",
       "    }\n",
       "</style>\n",
       "<table border=\"1\" class=\"dataframe\">\n",
       "  <thead>\n",
       "    <tr style=\"text-align: right;\">\n",
       "      <th></th>\n",
       "      <th>State</th>\n",
       "      <th>Gender</th>\n",
       "      <th>Education</th>\n",
       "      <th>Customer Lifetime Value</th>\n",
       "      <th>Income</th>\n",
       "      <th>Monthly Premium Auto</th>\n",
       "      <th>Number of Open Complaints</th>\n",
       "      <th>Policy Type</th>\n",
       "      <th>Vehicle Class</th>\n",
       "      <th>Total Claim Amount</th>\n",
       "    </tr>\n",
       "  </thead>\n",
       "  <tbody>\n",
       "    <tr>\n",
       "      <th>0</th>\n",
       "      <td>Washington</td>\n",
       "      <td>NaN</td>\n",
       "      <td>Master</td>\n",
       "      <td>NaN</td>\n",
       "      <td>0.0</td>\n",
       "      <td>1000.0</td>\n",
       "      <td>0.0</td>\n",
       "      <td>Personal Auto</td>\n",
       "      <td>Four-Door Car</td>\n",
       "      <td>2.704934</td>\n",
       "    </tr>\n",
       "    <tr>\n",
       "      <th>1</th>\n",
       "      <td>Arizona</td>\n",
       "      <td>Female</td>\n",
       "      <td>Bachelor</td>\n",
       "      <td>697954.0</td>\n",
       "      <td>0.0</td>\n",
       "      <td>94.0</td>\n",
       "      <td>0.0</td>\n",
       "      <td>Personal Auto</td>\n",
       "      <td>Four-Door Car</td>\n",
       "      <td>1131.464935</td>\n",
       "    </tr>\n",
       "    <tr>\n",
       "      <th>2</th>\n",
       "      <td>Nevada</td>\n",
       "      <td>Female</td>\n",
       "      <td>Bachelor</td>\n",
       "      <td>1288743.0</td>\n",
       "      <td>48767.0</td>\n",
       "      <td>108.0</td>\n",
       "      <td>0.0</td>\n",
       "      <td>Personal Auto</td>\n",
       "      <td>Two-Door Car</td>\n",
       "      <td>566.472247</td>\n",
       "    </tr>\n",
       "    <tr>\n",
       "      <th>3</th>\n",
       "      <td>California</td>\n",
       "      <td>Male</td>\n",
       "      <td>Bachelor</td>\n",
       "      <td>764586.0</td>\n",
       "      <td>0.0</td>\n",
       "      <td>106.0</td>\n",
       "      <td>0.0</td>\n",
       "      <td>Corporate Auto</td>\n",
       "      <td>SUV</td>\n",
       "      <td>529.881344</td>\n",
       "    </tr>\n",
       "    <tr>\n",
       "      <th>4</th>\n",
       "      <td>Washington</td>\n",
       "      <td>Male</td>\n",
       "      <td>High School or Below</td>\n",
       "      <td>536308.0</td>\n",
       "      <td>36357.0</td>\n",
       "      <td>68.0</td>\n",
       "      <td>0.0</td>\n",
       "      <td>Personal Auto</td>\n",
       "      <td>Four-Door Car</td>\n",
       "      <td>17.269323</td>\n",
       "    </tr>\n",
       "    <tr>\n",
       "      <th>...</th>\n",
       "      <td>...</td>\n",
       "      <td>...</td>\n",
       "      <td>...</td>\n",
       "      <td>...</td>\n",
       "      <td>...</td>\n",
       "      <td>...</td>\n",
       "      <td>...</td>\n",
       "      <td>...</td>\n",
       "      <td>...</td>\n",
       "      <td>...</td>\n",
       "    </tr>\n",
       "    <tr>\n",
       "      <th>9130</th>\n",
       "      <td>California</td>\n",
       "      <td>Male</td>\n",
       "      <td>Bachelor</td>\n",
       "      <td>23406.0</td>\n",
       "      <td>71941.0</td>\n",
       "      <td>73.0</td>\n",
       "      <td>0.0</td>\n",
       "      <td>Personal Auto</td>\n",
       "      <td>Four-Door Car</td>\n",
       "      <td>198.234764</td>\n",
       "    </tr>\n",
       "    <tr>\n",
       "      <th>9131</th>\n",
       "      <td>California</td>\n",
       "      <td>Female</td>\n",
       "      <td>College</td>\n",
       "      <td>3097.0</td>\n",
       "      <td>21604.0</td>\n",
       "      <td>79.0</td>\n",
       "      <td>0.0</td>\n",
       "      <td>Corporate Auto</td>\n",
       "      <td>Four-Door Car</td>\n",
       "      <td>379.200000</td>\n",
       "    </tr>\n",
       "    <tr>\n",
       "      <th>9132</th>\n",
       "      <td>California</td>\n",
       "      <td>Male</td>\n",
       "      <td>Bachelor</td>\n",
       "      <td>8164.0</td>\n",
       "      <td>0.0</td>\n",
       "      <td>85.0</td>\n",
       "      <td>3.0</td>\n",
       "      <td>Corporate Auto</td>\n",
       "      <td>Four-Door Car</td>\n",
       "      <td>790.784983</td>\n",
       "    </tr>\n",
       "    <tr>\n",
       "      <th>9133</th>\n",
       "      <td>California</td>\n",
       "      <td>Male</td>\n",
       "      <td>College</td>\n",
       "      <td>7524.0</td>\n",
       "      <td>21941.0</td>\n",
       "      <td>96.0</td>\n",
       "      <td>0.0</td>\n",
       "      <td>Personal Auto</td>\n",
       "      <td>Four-Door Car</td>\n",
       "      <td>691.200000</td>\n",
       "    </tr>\n",
       "    <tr>\n",
       "      <th>9134</th>\n",
       "      <td>California</td>\n",
       "      <td>Male</td>\n",
       "      <td>College</td>\n",
       "      <td>2612.0</td>\n",
       "      <td>0.0</td>\n",
       "      <td>77.0</td>\n",
       "      <td>0.0</td>\n",
       "      <td>Corporate Auto</td>\n",
       "      <td>Two-Door Car</td>\n",
       "      <td>369.600000</td>\n",
       "    </tr>\n",
       "  </tbody>\n",
       "</table>\n",
       "<p>9135 rows × 10 columns</p>\n",
       "</div>"
      ],
      "text/plain": [
       "           State  Gender             Education  Customer Lifetime Value  \\\n",
       "0     Washington     NaN                Master                      NaN   \n",
       "1        Arizona  Female              Bachelor                 697954.0   \n",
       "2         Nevada  Female              Bachelor                1288743.0   \n",
       "3     California    Male              Bachelor                 764586.0   \n",
       "4     Washington    Male  High School or Below                 536308.0   \n",
       "...          ...     ...                   ...                      ...   \n",
       "9130  California    Male              Bachelor                  23406.0   \n",
       "9131  California  Female               College                   3097.0   \n",
       "9132  California    Male              Bachelor                   8164.0   \n",
       "9133  California    Male               College                   7524.0   \n",
       "9134  California    Male               College                   2612.0   \n",
       "\n",
       "       Income  Monthly Premium Auto  Number of Open Complaints  \\\n",
       "0         0.0                1000.0                        0.0   \n",
       "1         0.0                  94.0                        0.0   \n",
       "2     48767.0                 108.0                        0.0   \n",
       "3         0.0                 106.0                        0.0   \n",
       "4     36357.0                  68.0                        0.0   \n",
       "...       ...                   ...                        ...   \n",
       "9130  71941.0                  73.0                        0.0   \n",
       "9131  21604.0                  79.0                        0.0   \n",
       "9132      0.0                  85.0                        3.0   \n",
       "9133  21941.0                  96.0                        0.0   \n",
       "9134      0.0                  77.0                        0.0   \n",
       "\n",
       "         Policy Type  Vehicle Class  Total Claim Amount  \n",
       "0      Personal Auto  Four-Door Car            2.704934  \n",
       "1      Personal Auto  Four-Door Car         1131.464935  \n",
       "2      Personal Auto   Two-Door Car          566.472247  \n",
       "3     Corporate Auto            SUV          529.881344  \n",
       "4      Personal Auto  Four-Door Car           17.269323  \n",
       "...              ...            ...                 ...  \n",
       "9130   Personal Auto  Four-Door Car          198.234764  \n",
       "9131  Corporate Auto  Four-Door Car          379.200000  \n",
       "9132  Corporate Auto  Four-Door Car          790.784983  \n",
       "9133   Personal Auto  Four-Door Car          691.200000  \n",
       "9134  Corporate Auto   Two-Door Car          369.600000  \n",
       "\n",
       "[9135 rows x 10 columns]"
      ]
     },
     "execution_count": 5,
     "metadata": {},
     "output_type": "execute_result"
    }
   ],
   "source": [
    "df"
   ]
  },
  {
   "cell_type": "code",
   "execution_count": 6,
   "id": "435977cc",
   "metadata": {},
   "outputs": [],
   "source": [
    "# lets set up a function that replaces Null or 0 values with the mean from the column\n",
    "\n",
    "def Replace_null_values(Column_name):\n",
    "    df[Column_name].replace(0, np.nan, inplace=True)\n",
    "    df[Column_name] = df[Column_name].fillna(df[Column_name].mean())\n",
    "    return df[Column_name]"
   ]
  },
  {
   "cell_type": "code",
   "execution_count": 7,
   "id": "df801fd3",
   "metadata": {},
   "outputs": [
    {
     "data": {
      "text/plain": [
       "0          2.704934\n",
       "1       1131.464935\n",
       "2        566.472247\n",
       "3        529.881344\n",
       "4         17.269323\n",
       "           ...     \n",
       "9130     198.234764\n",
       "9131     379.200000\n",
       "9132     790.784983\n",
       "9133     691.200000\n",
       "9134     369.600000\n",
       "Name: Total Claim Amount, Length: 9135, dtype: float64"
      ]
     },
     "execution_count": 7,
     "metadata": {},
     "output_type": "execute_result"
    }
   ],
   "source": [
    "Replace_null_values('Customer Lifetime Value')\n",
    "\n",
    "#Replace_null_values('Number of Open Complaints') is excluded as 0 is a legit value\n",
    "\n",
    "Replace_null_values('Income')\n",
    "\n",
    "Replace_null_values('Monthly Premium Auto')\n",
    "\n",
    "Replace_null_values('Total Claim Amount')"
   ]
  },
  {
   "cell_type": "code",
   "execution_count": 8,
   "id": "8974219c",
   "metadata": {},
   "outputs": [],
   "source": [
    "# rounding up the values in the table for clarity\n",
    "\n",
    "df = df.round()"
   ]
  },
  {
   "cell_type": "markdown",
   "id": "78921a28",
   "metadata": {},
   "source": [
    "#### Bucketing the data - Write a function to replace column \"State\" to different zones. California as West Region, Oregon as North West, and Washington as East, and Arizona and Nevada as Central\n"
   ]
  },
  {
   "cell_type": "code",
   "execution_count": 9,
   "id": "da3c7378",
   "metadata": {},
   "outputs": [
    {
     "data": {
      "text/plain": [
       "array(['Washington', 'Arizona', 'Nevada', 'California', 'Oregon', 'Cali',\n",
       "       nan], dtype=object)"
      ]
     },
     "execution_count": 9,
     "metadata": {},
     "output_type": "execute_result"
    }
   ],
   "source": [
    "df.State.unique()"
   ]
  },
  {
   "cell_type": "code",
   "execution_count": 11,
   "id": "bd7d1367",
   "metadata": {},
   "outputs": [],
   "source": [
    "# function that replaces new values to old ones in a specific column\n",
    "\n",
    "def df_old_new(to_replace, value, column_name):\n",
    "    df[column_name].replace(to_replace, value, inplace=True)"
   ]
  },
  {
   "cell_type": "code",
   "execution_count": 12,
   "id": "e91236fc",
   "metadata": {},
   "outputs": [],
   "source": [
    "# applying the function to replace States to different zones\n",
    "\n",
    "df_old_new('California', 'West Region', 'State')\n",
    "df_old_new('Cali', 'West Region', 'State')\n",
    "df_old_new('Oregon', 'North West', 'State')\n",
    "df_old_new('Washington', 'East', 'State')\n",
    "df_old_new('Arizona', 'Central', 'State')\n",
    "df_old_new('Nevada', 'Central', 'State')\n",
    "\n"
   ]
  },
  {
   "cell_type": "code",
   "execution_count": 13,
   "id": "c0a86c40",
   "metadata": {},
   "outputs": [
    {
     "data": {
      "text/plain": [
       "array(['East', 'Central', 'West Region', 'North West', nan], dtype=object)"
      ]
     },
     "execution_count": 13,
     "metadata": {},
     "output_type": "execute_result"
    }
   ],
   "source": [
    "df.State.unique()"
   ]
  },
  {
   "cell_type": "markdown",
   "id": "ef26ea67",
   "metadata": {},
   "source": [
    "#### (Optional) In the column Vehicle Class, merge the two categories Luxury SUV and Luxury Car into one category named Luxury Vehicle"
   ]
  },
  {
   "cell_type": "code",
   "execution_count": 14,
   "id": "dc3d7d93",
   "metadata": {},
   "outputs": [
    {
     "data": {
      "text/plain": [
       "array(['Four-Door Car', 'Two-Door Car', 'SUV', 'Luxury SUV', 'Sports Car',\n",
       "       'Luxury Car', nan], dtype=object)"
      ]
     },
     "execution_count": 14,
     "metadata": {},
     "output_type": "execute_result"
    }
   ],
   "source": [
    "df['Vehicle Class'].unique()"
   ]
  },
  {
   "cell_type": "code",
   "execution_count": 15,
   "id": "9d818c1d",
   "metadata": {},
   "outputs": [],
   "source": [
    "# applying the same function for changing the names in the Vehicle Class column\n",
    "\n",
    "df_old_new('Luxury SUV', 'Luxury Vehicle','Vehicle Class')\n",
    "df_old_new('Luxury Car', 'Luxury Vehicle','Vehicle Class')"
   ]
  },
  {
   "cell_type": "code",
   "execution_count": 16,
   "id": "9ae113a0",
   "metadata": {},
   "outputs": [
    {
     "data": {
      "text/plain": [
       "array(['Four-Door Car', 'Two-Door Car', 'SUV', 'Luxury Vehicle',\n",
       "       'Sports Car', nan], dtype=object)"
      ]
     },
     "execution_count": 16,
     "metadata": {},
     "output_type": "execute_result"
    }
   ],
   "source": [
    "df['Vehicle Class'].unique()\n"
   ]
  },
  {
   "cell_type": "markdown",
   "id": "60648eac",
   "metadata": {},
   "source": [
    "#### (Optional) Removing outliers using 1.5*IQR technique for all numerical columns."
   ]
  },
  {
   "cell_type": "code",
   "execution_count": 41,
   "id": "ac73585c",
   "metadata": {},
   "outputs": [],
   "source": [
    "import numpy as np\n",
    "import pandas as pd\n",
    "import matplotlib.pyplot as plt\n",
    "%matplotlib inline\n",
    "\n",
    "# this function establishes lower and upper bounds using the 1.5*IQR technique. \n",
    "# The bounds are then applyed to the numeric column to identify outliers.\n",
    "# The outliers are subsequently dropped from the dataframe.\n",
    "\n",
    "def outlier_treatment(datacolumn, dataframe):\n",
    "    sorted(datacolumn)\n",
    "    Q1,Q3 = np.percentile(datacolumn , [25,75])\n",
    "    IQR = Q3 - Q1\n",
    "    lower_range = Q1 - (1.5 * IQR)\n",
    "    upper_range = Q3 + (1.5 * IQR)\n",
    "    outliers = dataframe[(datacolumn < lower_range) | (datacolumn > upper_range)]\n",
    "    return dataframe.drop(outliers.index , inplace=True)\n"
   ]
  },
  {
   "cell_type": "code",
   "execution_count": 42,
   "id": "f85f9b94",
   "metadata": {},
   "outputs": [
    {
     "name": "stdout",
     "output_type": "stream",
     "text": [
      "<class 'pandas.core.frame.DataFrame'>\n",
      "Int64Index: 8688 entries, 0 to 9134\n",
      "Data columns (total 10 columns):\n",
      " #   Column                     Non-Null Count  Dtype  \n",
      "---  ------                     --------------  -----  \n",
      " 0   State                      8687 non-null   object \n",
      " 1   Gender                     8567 non-null   object \n",
      " 2   Education                  8687 non-null   object \n",
      " 3   Customer Lifetime Value    8688 non-null   float64\n",
      " 4   Income                     8688 non-null   float64\n",
      " 5   Monthly Premium Auto       8688 non-null   float64\n",
      " 6   Number of Open Complaints  8687 non-null   float64\n",
      " 7   Policy Type                8687 non-null   object \n",
      " 8   Vehicle Class              8687 non-null   object \n",
      " 9   Total Claim Amount         8688 non-null   float64\n",
      "dtypes: float64(5), object(5)\n",
      "memory usage: 746.6+ KB\n"
     ]
    }
   ],
   "source": [
    "df.info()"
   ]
  },
  {
   "cell_type": "code",
   "execution_count": null,
   "id": "54a9bbc0",
   "metadata": {},
   "outputs": [],
   "source": [
    "#applying the outlier_treatment function to the numeric columns:\n",
    "\n",
    "outlier_treatment(df['Customer Lifetime Value'], df)\n",
    "outlier_treatment(df['Income'], df)\n",
    "outlier_treatment(df['Monthly Premium Auto'], df)\n",
    "#outlier_treatment(df['Number of Open Complaints'], df)\n",
    "outlier_treatment(df['Total Claim Amount'], df)"
   ]
  },
  {
   "cell_type": "code",
   "execution_count": 44,
   "id": "f2d975fb",
   "metadata": {},
   "outputs": [
    {
     "name": "stdout",
     "output_type": "stream",
     "text": [
      "<class 'pandas.core.frame.DataFrame'>\n",
      "Int64Index: 8466 entries, 2 to 9134\n",
      "Data columns (total 10 columns):\n",
      " #   Column                     Non-Null Count  Dtype  \n",
      "---  ------                     --------------  -----  \n",
      " 0   State                      8465 non-null   object \n",
      " 1   Gender                     8351 non-null   object \n",
      " 2   Education                  8465 non-null   object \n",
      " 3   Customer Lifetime Value    8466 non-null   float64\n",
      " 4   Income                     8466 non-null   float64\n",
      " 5   Monthly Premium Auto       8466 non-null   float64\n",
      " 6   Number of Open Complaints  8465 non-null   float64\n",
      " 7   Policy Type                8465 non-null   object \n",
      " 8   Vehicle Class              8465 non-null   object \n",
      " 9   Total Claim Amount         8466 non-null   float64\n",
      "dtypes: float64(5), object(5)\n",
      "memory usage: 727.5+ KB\n"
     ]
    }
   ],
   "source": [
    "df.info()"
   ]
  },
  {
   "cell_type": "code",
   "execution_count": null,
   "id": "87187219",
   "metadata": {},
   "outputs": [],
   "source": [
    "#let's reset the index after dropping all these values\n",
    "\n",
    "df.reset_index(drop=True, inplace=True)"
   ]
  },
  {
   "cell_type": "markdown",
   "id": "ef0d8723",
   "metadata": {},
   "source": [
    "#### (Optional) Standardizing the data – Use string functions to standardize the text data (lower case)"
   ]
  },
  {
   "cell_type": "code",
   "execution_count": null,
   "id": "8828e48e",
   "metadata": {},
   "outputs": [],
   "source": [
    "# the function goes through the dataframe and makes all str objects lowercase.\n",
    "\n",
    "def lower_case_text(dataframe):\n",
    "    \n",
    "    dataframe = dataframe.applymap(lambda x: str(x).lower() if type(x) == str else x)\n",
    "    \n",
    "    return dataframe\n",
    "\n",
    "lower_case_text(df)"
   ]
  },
  {
   "cell_type": "code",
   "execution_count": null,
   "id": "3b64dd76",
   "metadata": {},
   "outputs": [],
   "source": []
  }
 ],
 "metadata": {
  "kernelspec": {
   "display_name": "Python 3 (ipykernel)",
   "language": "python",
   "name": "python3"
  },
  "language_info": {
   "codemirror_mode": {
    "name": "ipython",
    "version": 3
   },
   "file_extension": ".py",
   "mimetype": "text/x-python",
   "name": "python",
   "nbconvert_exporter": "python",
   "pygments_lexer": "ipython3",
   "version": "3.9.13"
  }
 },
 "nbformat": 4,
 "nbformat_minor": 5
}
