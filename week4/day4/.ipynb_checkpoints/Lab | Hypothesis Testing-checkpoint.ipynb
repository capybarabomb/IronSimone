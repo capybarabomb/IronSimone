{
 "cells": [
  {
   "cell_type": "markdown",
   "id": "7a8d5f9e",
   "metadata": {},
   "source": [
    "## Instructions\n",
    "It is assumed that the mean systolic blood pressure is μ = 120 mm Hg. In the Honolulu Heart Study, a sample of n = 100 people had an average systolic blood pressure of 130.1 mm Hg with a standard deviation of 21.21 mm Hg. Is the group significantly different (with respect to systolic blood pressure!) from the regular population?\n",
    "\n",
    "Set up the hypothesis test.\n",
    "Write down all the steps followed for setting up the test.\n",
    "Calculate the test statistic by hand and also code it in Python. It should be 4.76190. What decision can you make based on this calculated value?\n"
   ]
  },
  {
   "cell_type": "code",
   "execution_count": 13,
   "id": "81dac86a",
   "metadata": {},
   "outputs": [],
   "source": [
    "import math\n",
    "import scipy.stats \n",
    "import pandas as pd\n"
   ]
  },
  {
   "cell_type": "code",
   "execution_count": 14,
   "id": "24a87c87",
   "metadata": {},
   "outputs": [
    {
     "data": {
      "text/plain": [
       "4.761904761904759"
      ]
     },
     "execution_count": 14,
     "metadata": {},
     "output_type": "execute_result"
    }
   ],
   "source": [
    "#define Ho and Ha\n",
    "\n",
    "#Ho = 120    \n",
    "#Ha != 120\n",
    "\n",
    "pop_mean = 120\n",
    "sample_mean = 130.1\n",
    "sample_std = 21.21\n",
    "sample_size=100\n",
    "\n",
    "#calculate sample (test) statistics (where µ,∂ from population, x,n from sample)\n",
    "\n",
    "t = (sample_mean-pop_mean)/(sample_std/math.sqrt(sample_size))\n",
    "\n",
    "t"
   ]
  },
  {
   "cell_type": "code",
   "execution_count": 15,
   "id": "3d6d05f7",
   "metadata": {},
   "outputs": [
    {
     "data": {
      "text/plain": [
       "-1.9842169515086827"
      ]
     },
     "execution_count": 15,
     "metadata": {},
     "output_type": "execute_result"
    }
   ],
   "source": [
    "#Identify critical value using the t-student method (degree of freedom=99)\n",
    "\n",
    "tc = +- scipy.stats.t.ppf(1-(0.05/2), df=99)\n",
    "\n",
    "tc"
   ]
  },
  {
   "cell_type": "code",
   "execution_count": 16,
   "id": "d64bc881",
   "metadata": {
    "scrolled": true
   },
   "outputs": [
    {
     "name": "stdout",
     "output_type": "stream",
     "text": [
      "Ho is rejected\n"
     ]
    }
   ],
   "source": [
    "# accept or reject null hypothesis\n",
    "\n",
    "if abs(t) > abs(tc):\n",
    "    print (\"Ho is rejected\")"
   ]
  },
  {
   "cell_type": "markdown",
   "id": "995570aa",
   "metadata": {},
   "source": [
    "## Optional\n",
    "\n",
    "In a packing plant, a machine packs cartons with jars. It is supposed that a new machine will pack faster on the average than the machine currently used. To test that hypothesis, the times it takes each machine to pack ten cartons are recorded. The results, in seconds, are shown in the tables in the file Data/machine.txt. Assume that there is sufficient evidence to conduct the t test, does the data provide sufficient evidence to show if one machine is better than the other?\n",
    "\n",
    "Hint: use two sample t-test\n",
    "\n",
    "t= (sample_mean(x1) - sample_mean(x2)) / sqrt(square(s1)/n1 + square(s2)/n2 )"
   ]
  },
  {
   "cell_type": "code",
   "execution_count": 50,
   "id": "227d98cb",
   "metadata": {},
   "outputs": [
    {
     "data": {
      "text/html": [
       "<div>\n",
       "<style scoped>\n",
       "    .dataframe tbody tr th:only-of-type {\n",
       "        vertical-align: middle;\n",
       "    }\n",
       "\n",
       "    .dataframe tbody tr th {\n",
       "        vertical-align: top;\n",
       "    }\n",
       "\n",
       "    .dataframe thead th {\n",
       "        text-align: right;\n",
       "    }\n",
       "</style>\n",
       "<table border=\"1\" class=\"dataframe\">\n",
       "  <thead>\n",
       "    <tr style=\"text-align: right;\">\n",
       "      <th></th>\n",
       "      <th>New_Machine</th>\n",
       "      <th>Old_Machine</th>\n",
       "    </tr>\n",
       "  </thead>\n",
       "  <tbody>\n",
       "    <tr>\n",
       "      <th>0</th>\n",
       "      <td>42.1</td>\n",
       "      <td>42.7</td>\n",
       "    </tr>\n",
       "    <tr>\n",
       "      <th>1</th>\n",
       "      <td>41.0</td>\n",
       "      <td>43.6</td>\n",
       "    </tr>\n",
       "    <tr>\n",
       "      <th>2</th>\n",
       "      <td>41.3</td>\n",
       "      <td>43.8</td>\n",
       "    </tr>\n",
       "    <tr>\n",
       "      <th>3</th>\n",
       "      <td>41.8</td>\n",
       "      <td>43.3</td>\n",
       "    </tr>\n",
       "    <tr>\n",
       "      <th>4</th>\n",
       "      <td>42.4</td>\n",
       "      <td>42.5</td>\n",
       "    </tr>\n",
       "    <tr>\n",
       "      <th>5</th>\n",
       "      <td>42.8</td>\n",
       "      <td>43.5</td>\n",
       "    </tr>\n",
       "    <tr>\n",
       "      <th>6</th>\n",
       "      <td>43.2</td>\n",
       "      <td>43.1</td>\n",
       "    </tr>\n",
       "    <tr>\n",
       "      <th>7</th>\n",
       "      <td>42.3</td>\n",
       "      <td>41.7</td>\n",
       "    </tr>\n",
       "    <tr>\n",
       "      <th>8</th>\n",
       "      <td>41.8</td>\n",
       "      <td>44.0</td>\n",
       "    </tr>\n",
       "    <tr>\n",
       "      <th>9</th>\n",
       "      <td>42.7</td>\n",
       "      <td>44.1</td>\n",
       "    </tr>\n",
       "  </tbody>\n",
       "</table>\n",
       "</div>"
      ],
      "text/plain": [
       "   New_Machine  Old_Machine\n",
       "0         42.1         42.7\n",
       "1         41.0         43.6\n",
       "2         41.3         43.8\n",
       "3         41.8         43.3\n",
       "4         42.4         42.5\n",
       "5         42.8         43.5\n",
       "6         43.2         43.1\n",
       "7         42.3         41.7\n",
       "8         41.8         44.0\n",
       "9         42.7         44.1"
      ]
     },
     "execution_count": 50,
     "metadata": {},
     "output_type": "execute_result"
    }
   ],
   "source": [
    "df=pd.read_fwf('Data/Data_Machine.txt')\n",
    "\n",
    "df"
   ]
  },
  {
   "cell_type": "code",
   "execution_count": 51,
   "id": "9b769b0d",
   "metadata": {},
   "outputs": [],
   "source": [
    "#Ho = New_Machine = Old_Machine\n",
    "#Ha = New_Machine faster than Old_Machine\n",
    "\n",
    "tc = +- scipy.stats.t.ppf(0.95, df=9)"
   ]
  },
  {
   "cell_type": "code",
   "execution_count": 52,
   "id": "23baad73",
   "metadata": {},
   "outputs": [],
   "source": [
    "sample_mean1 = df['New_Machine'].mean()"
   ]
  },
  {
   "cell_type": "code",
   "execution_count": 53,
   "id": "0cd6cbde",
   "metadata": {},
   "outputs": [],
   "source": [
    "sample_mean2 = df['Old_Machine'].mean()"
   ]
  },
  {
   "cell_type": "code",
   "execution_count": 54,
   "id": "2c0dbaed",
   "metadata": {},
   "outputs": [],
   "source": [
    "s1 = df['New_Machine'].std()"
   ]
  },
  {
   "cell_type": "code",
   "execution_count": 55,
   "id": "eb50f003",
   "metadata": {},
   "outputs": [],
   "source": [
    "s2 = df['Old_Machine'].std()"
   ]
  },
  {
   "cell_type": "code",
   "execution_count": 56,
   "id": "8ced4c96",
   "metadata": {},
   "outputs": [],
   "source": [
    "n=len(df['New_Machine'])"
   ]
  },
  {
   "cell_type": "code",
   "execution_count": 57,
   "id": "5ef684ee",
   "metadata": {},
   "outputs": [],
   "source": [
    "t= (sample_mean1 - sample_mean2) / math.sqrt(pow(s1,2)/n + pow(s2,2)/n )"
   ]
  },
  {
   "cell_type": "code",
   "execution_count": 59,
   "id": "e0e5edc4",
   "metadata": {},
   "outputs": [
    {
     "name": "stdout",
     "output_type": "stream",
     "text": [
      "Ho is rejected\n"
     ]
    }
   ],
   "source": [
    "# accept or reject null hypothesis\n",
    "\n",
    "if abs(t) > abs(tc):\n",
    "    print (\"Ho is rejected\")"
   ]
  }
 ],
 "metadata": {
  "kernelspec": {
   "display_name": "Python 3 (ipykernel)",
   "language": "python",
   "name": "python3"
  },
  "language_info": {
   "codemirror_mode": {
    "name": "ipython",
    "version": 3
   },
   "file_extension": ".py",
   "mimetype": "text/x-python",
   "name": "python",
   "nbconvert_exporter": "python",
   "pygments_lexer": "ipython3",
   "version": "3.9.13"
  }
 },
 "nbformat": 4,
 "nbformat_minor": 5
}
